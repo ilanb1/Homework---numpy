{
  "nbformat": 4,
  "nbformat_minor": 0,
  "metadata": {
    "colab": {
      "provenance": [],
      "collapsed_sections": [],
      "authorship_tag": "ABX9TyNXwesLIE4gavWzvWLD5+QZ",
      "include_colab_link": true
    },
    "kernelspec": {
      "name": "python3",
      "display_name": "Python 3"
    },
    "language_info": {
      "name": "python"
    }
  },
  "cells": [
    {
      "cell_type": "markdown",
      "metadata": {
        "id": "view-in-github",
        "colab_type": "text"
      },
      "source": [
        "<a href=\"https://colab.research.google.com/github/ilanb1/Homework---numpy/blob/main/NumPy_Assignment.ipynb\" target=\"_parent\"><img src=\"https://colab.research.google.com/assets/colab-badge.svg\" alt=\"Open In Colab\"/></a>"
      ]
    },
    {
      "cell_type": "markdown",
      "source": [
        "1. Create Chess Board\n"
      ],
      "metadata": {
        "id": "H-Zx5qEJzEWq"
      }
    },
    {
      "cell_type": "markdown",
      "source": [
        "The main idea is to create a \"basic unit\" (which is white and black squares) and making a long vector from it by duplicating it enough time. Then we reshape it to (size x size) and that trick will create the chess board. We also need to append the last element manually.<br>\n",
        "This trick only works if the board size is odd number. So if the board size is even number, we create a bigger board and return only part of it."
      ],
      "metadata": {
        "id": "YlSIQE08ox6x"
      }
    },
    {
      "cell_type": "code",
      "execution_count": 133,
      "metadata": {
        "id": "NbBp0HG_gcGI"
      },
      "outputs": [],
      "source": [
        "import numpy as np\n",
        "import matplotlib.pyplot as plt"
      ]
    },
    {
      "cell_type": "code",
      "source": [
        "def create_chess_board(size):\n",
        "  \n",
        "  basic_unit = np.array([1 , 0] , dtype = np.float32)\n",
        "  \n",
        "  #if the size is even number, then we will create a board with size +1 so it will be odd.\n",
        "  if size%2 != 0 :\n",
        "    temp_size = size\n",
        "  else:\n",
        "    temp_size = size + 1\n",
        "\n",
        "  vector = np.tile(basic_unit ,temp_size**2 // 2)\n",
        "  vector = np.append(vector , 1)\n",
        "  \n",
        "  #generates the board by reshaping the long vector:\n",
        "  board = vector.reshape((temp_size,temp_size))\n",
        "\n",
        "  # This line will return the desired size for each case (odd or even): \n",
        "  return board[:size , :size]"
      ],
      "metadata": {
        "id": "kLTCCNAXgoBx"
      },
      "execution_count": 134,
      "outputs": []
    },
    {
      "cell_type": "code",
      "source": [
        "#Testing cell for Q1\n",
        "\n",
        "#Generating chess boards of different sizes\n",
        "\n",
        "fig, arr = plt.subplots(1, 8, figsize=(15, 15))\n",
        "\n",
        "#Adding background color so it will be easier to notice the edges.\n",
        "fig.set_facecolor('xkcd:mint green')\n",
        "\n",
        "for board_size in range(2,10):\n",
        "\n",
        "  arr[board_size -2].imshow(create_chess_board(board_size), cmap=\"gray\")\n",
        "  arr[board_size -2].set_title(f\"{board_size}x{board_size}\")\n",
        "  arr[board_size -2].axis(\"off\")"
      ],
      "metadata": {
        "colab": {
          "base_uri": "https://localhost:8080/",
          "height": 136
        },
        "id": "SStZhBQDu8Jb",
        "outputId": "417a0b51-4aaf-4e3c-aecc-56cffdf0e3a9"
      },
      "execution_count": 135,
      "outputs": [
        {
          "output_type": "display_data",
          "data": {
            "text/plain": [
              "<Figure size 1080x1080 with 8 Axes>"
            ],
            "image/png": "[encoded data removed]"
          },
          "metadata": {}
        }
      ]
    },
    {
      "cell_type": "markdown",
      "source": [
        "2. For each row in the board, choose a random value in the range 0-7 and enter a value between 0 and 1 in the drawn slot."
      ],
      "metadata": {
        "id": "vy-bZJjgzRjy"
      }
    },
    {
      "cell_type": "code",
      "source": [
        "import tensorflow as tf"
      ],
      "metadata": {
        "id": "C3JNMuQ4_ljL"
      },
      "execution_count": 4,
      "outputs": []
    },
    {
      "cell_type": "code",
      "source": [
        "def draw_exceptional_value(board):\n",
        "  \n",
        "  board_size = board.shape[0]\n",
        "\n",
        "  #Choosing which columns to draw on:\n",
        "  column_indexes = np.random.randint(low = 0 , high = board_size , size = board_size)\n",
        "  \n",
        "  #Choosing what will be the new value:\n",
        "  random_values = np.random.rand(board_size)\n",
        "\n",
        "  #Using the built-in function for \"one hot encoding\" to get matrix of positions:\n",
        "  drawing_positions = tf.one_hot(column_indexes,depth = board_size, dtype = tf.int32)\n",
        "  \n",
        "  #Writing the new values in the selected positions:\n",
        "  board[np.array(drawing_positions).astype(bool)] = random_values\n",
        "\n",
        "  return board"
      ],
      "metadata": {
        "id": "68_wgRpm0P5K"
      },
      "execution_count": 136,
      "outputs": []
    },
    {
      "cell_type": "code",
      "source": [
        "#Testing cell for Q2\n",
        "\n",
        "# Generating \"dirty board\" of size 8x8\n",
        "\n",
        "board = create_chess_board(8)\n",
        "board = draw_exceptional_value(board)\n",
        "plt.imshow(board, cmap=\"gray\")"
      ],
      "metadata": {
        "colab": {
          "base_uri": "https://localhost:8080/",
          "height": 282
        },
        "id": "ZThA4ZsW4SpO",
        "outputId": "e8cf5ddf-760a-4f29-d65c-f4ba09705724"
      },
      "execution_count": 138,
      "outputs": [
        {
          "output_type": "execute_result",
          "data": {
            "text/plain": [
              "<matplotlib.image.AxesImage at 0x7ff44196d090>"
            ]
          },
          "metadata": {},
          "execution_count": 138
        },
        {
          "output_type": "display_data",
          "data": {
            "text/plain": [
              "<Figure size 432x288 with 1 Axes>"
            ],
            "image/png": "[encoded data removed]"
          },
          "metadata": {
            "needs_background": "light"
          }
        }
      ]
    },
    {
      "cell_type": "code",
      "source": [
        "#Another testing cell for Q2\n",
        "\n",
        "#Testing more cases: different board sizes\n",
        "#for each board size, we will generate 4 \"dirty boards\"\n",
        "\n",
        "num_of_examples = 4\n",
        "num_of_sizes = 6\n",
        "starting_size = 4\n",
        "\n",
        "fig, ax = plt.subplots(num_of_sizes, num_of_examples ,constrained_layout=True, figsize=(15,15))\n",
        "fig.set_facecolor('xkcd:mint green')\n",
        "\n",
        "for index in range(num_of_examples * num_of_sizes):\n",
        "  board = create_chess_board(starting_size + index // num_of_examples)\n",
        "  board = draw_exceptional_value(board)\n",
        "  ax[index//num_of_examples , index%num_of_examples].imshow(board, cmap=\"gray\")\n",
        "  ax[index//num_of_examples , index%num_of_examples].set_title(f\"{board.shape}\")\n",
        "  ax[index//num_of_examples , index%num_of_examples].axis(\"off\")"
      ],
      "metadata": {
        "colab": {
          "base_uri": "https://localhost:8080/",
          "height": 966
        },
        "id": "ihLibWYg6h08",
        "outputId": "f5dc9c2c-1156-44ba-ab7a-37f327b59e8e"
      },
      "execution_count": 139,
      "outputs": [
        {
          "output_type": "display_data",
          "data": {
            "text/plain": [
              "<Figure size 1080x1080 with 24 Axes>"
            ],
            "image/png": "[encoded data removed]"
          },
          "metadata": {}
        }
      ]
    },
    {
      "cell_type": "markdown",
      "source": [
        "3.  Find the unusual value in each row without using the code that created the board."
      ],
      "metadata": {
        "id": "NJql3uvWfXzJ"
      }
    },
    {
      "cell_type": "code",
      "source": [
        "def find_unusual_values(board):\n",
        "  \n",
        "  unusual_values_positions = (board!=0) & (board!=1)\n",
        "  unusual_values = board[unusual_values_positions]\n",
        "\n",
        "  for index, row in enumerate(unusual_values_positions):\n",
        "    print(f\"The unusual value in row {index} is in column {np.argmax(row)} and its value is: {unusual_values[index]:.3f}\")"
      ],
      "metadata": {
        "id": "2tMUyBECfT6m"
      },
      "execution_count": 127,
      "outputs": []
    },
    {
      "cell_type": "code",
      "source": [
        "#Testing cell for Q3\n",
        "\n",
        "#Finding the unusual values for a \"dirty board\" of size 8x8\n",
        "\n",
        "#For other board sizes, change this value:\n",
        "BOARD_SIZE = 8\n",
        "\n",
        "board = create_chess_board(BOARD_SIZE)\n",
        "board = draw_exceptional_value(board)\n",
        "find_unusual_values(board)\n",
        "plt.imshow(board, cmap=\"gray\")"
      ],
      "metadata": {
        "colab": {
          "base_uri": "https://localhost:8080/",
          "height": 421
        },
        "id": "aEV0YsXffYi0",
        "outputId": "7fc6b344-9065-4771-ddb5-c935c29fa1ad"
      },
      "execution_count": 141,
      "outputs": [
        {
          "output_type": "stream",
          "name": "stdout",
          "text": [
            "The unusual value in row 0 is in column 6 and its value is: 0.322\n",
            "The unusual value in row 1 is in column 3 and its value is: 0.679\n",
            "The unusual value in row 2 is in column 3 and its value is: 0.713\n",
            "The unusual value in row 3 is in column 0 and its value is: 0.277\n",
            "The unusual value in row 4 is in column 5 and its value is: 0.053\n",
            "The unusual value in row 5 is in column 3 and its value is: 0.642\n",
            "The unusual value in row 6 is in column 6 and its value is: 0.524\n",
            "The unusual value in row 7 is in column 3 and its value is: 0.300\n"
          ]
        },
        {
          "output_type": "execute_result",
          "data": {
            "text/plain": [
              "<matplotlib.image.AxesImage at 0x7ff3cc6be0d0>"
            ]
          },
          "metadata": {},
          "execution_count": 141
        },
        {
          "output_type": "display_data",
          "data": {
            "text/plain": [
              "<Figure size 432x288 with 1 Axes>"
            ],
            "image/png": "[encoded data removed]"
          },
          "metadata": {
            "needs_background": "light"
          }
        }
      ]
    }
  ]
}